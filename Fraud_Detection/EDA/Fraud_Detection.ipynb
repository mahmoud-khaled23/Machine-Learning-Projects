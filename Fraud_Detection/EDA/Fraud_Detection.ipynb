{
 "cells": [
  {
   "cell_type": "markdown",
   "id": "6a59cbf6-f33a-4713-a2d5-787316e4d614",
   "metadata": {},
   "source": [
    "### Our Goals\n",
    "detect Fraud operation"
   ]
  },
  {
   "cell_type": "markdown",
   "id": "8fe307be-3513-4f05-a889-c715c2772276",
   "metadata": {},
   "source": [
    "<h1>Introduction</h1>\n",
    "<p>In this notebook we will try to train different models to find the best suit model for accurately detecting Fraud transactions. The features are scaled and the names are hidden except Time and Amount due to privay issues. We will try different solutions to deal with imbalancing in data. Let's start! </p>\n",
    "\n",
    "<h2>Our Goals:</h2>\n",
    "<ul>\n",
    "<li>Understand the little distribution of the \"little\" data that was provided to us.</li>\n",
    "<li>Create a 50/50 sub-dataframe ratio of \"Fraud\" and \"Non-Fraud\" transactions. (NearMiss Algorithm)</li>\n",
    "<li>Determine the Classifiers we are going to use and decide which one has a higher accuracy.</li>\n",
    "<li>Create a Neural Network and compare the accuracy to our best classifier.</li>\n",
    "<li>Understand common mistakes made with imbalanced datasets.</li>\n",
    "</ol>\n",
    "\n",
    "</body>\n",
    "</html>"
   ]
  },
  {
   "cell_type": "markdown",
   "id": "1991d47b-2287-4052-b40b-5401c923556d",
   "metadata": {},
   "source": [
    "#### Load and discover data"
   ]
  },
  {
   "cell_type": "code",
   "execution_count": 35,
   "id": "3de1edfd-d7c3-4021-8e8e-7e7b47d03218",
   "metadata": {},
   "outputs": [],
   "source": [
    "import numpy as np\n",
    "import pandas as pd\n",
    "import matplotlib.pyplot as plt\n",
    "import seaborn as sns"
   ]
  },
  {
   "cell_type": "code",
   "execution_count": 4,
   "id": "7517dc20-8fd1-47b9-b941-515d578e0279",
   "metadata": {},
   "outputs": [],
   "source": [
    "path = '../data/train.csv'"
   ]
  },
  {
   "cell_type": "code",
   "execution_count": 252,
   "id": "53cdbda8-9632-4b62-83a1-40869171656a",
   "metadata": {},
   "outputs": [],
   "source": [
    "df = pd.DataFrame(pd.read_csv(path))"
   ]
  },
  {
   "cell_type": "code",
   "execution_count": 253,
   "id": "d30da842-ae39-49a3-9eee-45dbc3d71593",
   "metadata": {},
   "outputs": [
    {
     "data": {
      "text/html": [
       "<div>\n",
       "<style scoped>\n",
       "    .dataframe tbody tr th:only-of-type {\n",
       "        vertical-align: middle;\n",
       "    }\n",
       "\n",
       "    .dataframe tbody tr th {\n",
       "        vertical-align: top;\n",
       "    }\n",
       "\n",
       "    .dataframe thead th {\n",
       "        text-align: right;\n",
       "    }\n",
       "</style>\n",
       "<table border=\"1\" class=\"dataframe\">\n",
       "  <thead>\n",
       "    <tr style=\"text-align: right;\">\n",
       "      <th></th>\n",
       "      <th>Time</th>\n",
       "      <th>V1</th>\n",
       "      <th>V2</th>\n",
       "      <th>V3</th>\n",
       "      <th>V4</th>\n",
       "      <th>V5</th>\n",
       "      <th>V6</th>\n",
       "      <th>V7</th>\n",
       "      <th>V8</th>\n",
       "      <th>V9</th>\n",
       "      <th>...</th>\n",
       "      <th>V21</th>\n",
       "      <th>V22</th>\n",
       "      <th>V23</th>\n",
       "      <th>V24</th>\n",
       "      <th>V25</th>\n",
       "      <th>V26</th>\n",
       "      <th>V27</th>\n",
       "      <th>V28</th>\n",
       "      <th>Amount</th>\n",
       "      <th>Class</th>\n",
       "    </tr>\n",
       "  </thead>\n",
       "  <tbody>\n",
       "    <tr>\n",
       "      <th>0</th>\n",
       "      <td>119191.0</td>\n",
       "      <td>2.052427</td>\n",
       "      <td>-0.133236</td>\n",
       "      <td>-1.740621</td>\n",
       "      <td>0.277935</td>\n",
       "      <td>0.337999</td>\n",
       "      <td>-0.826933</td>\n",
       "      <td>0.334629</td>\n",
       "      <td>-0.227039</td>\n",
       "      <td>0.267655</td>\n",
       "      <td>...</td>\n",
       "      <td>-0.006518</td>\n",
       "      <td>0.121300</td>\n",
       "      <td>0.037733</td>\n",
       "      <td>-0.356498</td>\n",
       "      <td>0.147822</td>\n",
       "      <td>0.569149</td>\n",
       "      <td>-0.103929</td>\n",
       "      <td>-0.091958</td>\n",
       "      <td>8.73</td>\n",
       "      <td>0</td>\n",
       "    </tr>\n",
       "    <tr>\n",
       "      <th>1</th>\n",
       "      <td>71750.0</td>\n",
       "      <td>1.220356</td>\n",
       "      <td>-0.159191</td>\n",
       "      <td>-0.444349</td>\n",
       "      <td>-0.094437</td>\n",
       "      <td>0.104457</td>\n",
       "      <td>-0.345790</td>\n",
       "      <td>0.170867</td>\n",
       "      <td>-0.094996</td>\n",
       "      <td>0.187572</td>\n",
       "      <td>...</td>\n",
       "      <td>-0.088775</td>\n",
       "      <td>-0.364654</td>\n",
       "      <td>-0.140851</td>\n",
       "      <td>-0.707308</td>\n",
       "      <td>0.415661</td>\n",
       "      <td>1.087767</td>\n",
       "      <td>-0.102532</td>\n",
       "      <td>-0.008335</td>\n",
       "      <td>59.95</td>\n",
       "      <td>0</td>\n",
       "    </tr>\n",
       "    <tr>\n",
       "      <th>2</th>\n",
       "      <td>151977.0</td>\n",
       "      <td>0.892824</td>\n",
       "      <td>-1.440698</td>\n",
       "      <td>-0.637940</td>\n",
       "      <td>3.912871</td>\n",
       "      <td>0.099291</td>\n",
       "      <td>2.433288</td>\n",
       "      <td>-0.308891</td>\n",
       "      <td>0.603227</td>\n",
       "      <td>-0.113826</td>\n",
       "      <td>...</td>\n",
       "      <td>0.484969</td>\n",
       "      <td>0.487304</td>\n",
       "      <td>-0.122694</td>\n",
       "      <td>-0.598803</td>\n",
       "      <td>-0.594563</td>\n",
       "      <td>0.062841</td>\n",
       "      <td>-0.033426</td>\n",
       "      <td>0.038254</td>\n",
       "      <td>460.65</td>\n",
       "      <td>0</td>\n",
       "    </tr>\n",
       "    <tr>\n",
       "      <th>3</th>\n",
       "      <td>55709.0</td>\n",
       "      <td>-3.146021</td>\n",
       "      <td>2.247634</td>\n",
       "      <td>0.901397</td>\n",
       "      <td>0.146162</td>\n",
       "      <td>-2.109360</td>\n",
       "      <td>-0.148312</td>\n",
       "      <td>-1.533191</td>\n",
       "      <td>2.073663</td>\n",
       "      <td>0.499394</td>\n",
       "      <td>...</td>\n",
       "      <td>0.050567</td>\n",
       "      <td>-0.037019</td>\n",
       "      <td>0.107000</td>\n",
       "      <td>0.392857</td>\n",
       "      <td>0.303597</td>\n",
       "      <td>0.379544</td>\n",
       "      <td>-0.148990</td>\n",
       "      <td>0.074965</td>\n",
       "      <td>4.78</td>\n",
       "      <td>0</td>\n",
       "    </tr>\n",
       "    <tr>\n",
       "      <th>4</th>\n",
       "      <td>66654.0</td>\n",
       "      <td>1.194996</td>\n",
       "      <td>-0.007495</td>\n",
       "      <td>0.301285</td>\n",
       "      <td>0.750199</td>\n",
       "      <td>-0.297494</td>\n",
       "      <td>-0.405836</td>\n",
       "      <td>0.060410</td>\n",
       "      <td>-0.150482</td>\n",
       "      <td>0.400860</td>\n",
       "      <td>...</td>\n",
       "      <td>-0.234931</td>\n",
       "      <td>-0.545566</td>\n",
       "      <td>-0.089418</td>\n",
       "      <td>-0.064036</td>\n",
       "      <td>0.527305</td>\n",
       "      <td>0.294221</td>\n",
       "      <td>-0.025980</td>\n",
       "      <td>0.015637</td>\n",
       "      <td>44.31</td>\n",
       "      <td>0</td>\n",
       "    </tr>\n",
       "  </tbody>\n",
       "</table>\n",
       "<p>5 rows × 31 columns</p>\n",
       "</div>"
      ],
      "text/plain": [
       "       Time        V1        V2        V3        V4        V5        V6  \\\n",
       "0  119191.0  2.052427 -0.133236 -1.740621  0.277935  0.337999 -0.826933   \n",
       "1   71750.0  1.220356 -0.159191 -0.444349 -0.094437  0.104457 -0.345790   \n",
       "2  151977.0  0.892824 -1.440698 -0.637940  3.912871  0.099291  2.433288   \n",
       "3   55709.0 -3.146021  2.247634  0.901397  0.146162 -2.109360 -0.148312   \n",
       "4   66654.0  1.194996 -0.007495  0.301285  0.750199 -0.297494 -0.405836   \n",
       "\n",
       "         V7        V8        V9  ...       V21       V22       V23       V24  \\\n",
       "0  0.334629 -0.227039  0.267655  ... -0.006518  0.121300  0.037733 -0.356498   \n",
       "1  0.170867 -0.094996  0.187572  ... -0.088775 -0.364654 -0.140851 -0.707308   \n",
       "2 -0.308891  0.603227 -0.113826  ...  0.484969  0.487304 -0.122694 -0.598803   \n",
       "3 -1.533191  2.073663  0.499394  ...  0.050567 -0.037019  0.107000  0.392857   \n",
       "4  0.060410 -0.150482  0.400860  ... -0.234931 -0.545566 -0.089418 -0.064036   \n",
       "\n",
       "        V25       V26       V27       V28  Amount  Class  \n",
       "0  0.147822  0.569149 -0.103929 -0.091958    8.73      0  \n",
       "1  0.415661  1.087767 -0.102532 -0.008335   59.95      0  \n",
       "2 -0.594563  0.062841 -0.033426  0.038254  460.65      0  \n",
       "3  0.303597  0.379544 -0.148990  0.074965    4.78      0  \n",
       "4  0.527305  0.294221 -0.025980  0.015637   44.31      0  \n",
       "\n",
       "[5 rows x 31 columns]"
      ]
     },
     "execution_count": 253,
     "metadata": {},
     "output_type": "execute_result"
    }
   ],
   "source": [
    "df.head()"
   ]
  },
  {
   "cell_type": "code",
   "execution_count": 254,
   "id": "e48b67ae-9b18-41be-89f0-35acc39ef3aa",
   "metadata": {},
   "outputs": [
    {
     "data": {
      "text/html": [
       "<div>\n",
       "<style scoped>\n",
       "    .dataframe tbody tr th:only-of-type {\n",
       "        vertical-align: middle;\n",
       "    }\n",
       "\n",
       "    .dataframe tbody tr th {\n",
       "        vertical-align: top;\n",
       "    }\n",
       "\n",
       "    .dataframe thead th {\n",
       "        text-align: right;\n",
       "    }\n",
       "</style>\n",
       "<table border=\"1\" class=\"dataframe\">\n",
       "  <thead>\n",
       "    <tr style=\"text-align: right;\">\n",
       "      <th></th>\n",
       "      <th>Time</th>\n",
       "      <th>V1</th>\n",
       "      <th>V2</th>\n",
       "      <th>V3</th>\n",
       "      <th>V4</th>\n",
       "      <th>V5</th>\n",
       "      <th>V6</th>\n",
       "      <th>V7</th>\n",
       "      <th>V8</th>\n",
       "      <th>V9</th>\n",
       "      <th>...</th>\n",
       "      <th>V21</th>\n",
       "      <th>V22</th>\n",
       "      <th>V23</th>\n",
       "      <th>V24</th>\n",
       "      <th>V25</th>\n",
       "      <th>V26</th>\n",
       "      <th>V27</th>\n",
       "      <th>V28</th>\n",
       "      <th>Amount</th>\n",
       "      <th>Class</th>\n",
       "    </tr>\n",
       "  </thead>\n",
       "  <tbody>\n",
       "    <tr>\n",
       "      <th>count</th>\n",
       "      <td>170884.000000</td>\n",
       "      <td>170884.000000</td>\n",
       "      <td>170884.000000</td>\n",
       "      <td>170884.000000</td>\n",
       "      <td>170884.000000</td>\n",
       "      <td>170884.000000</td>\n",
       "      <td>170884.000000</td>\n",
       "      <td>170884.000000</td>\n",
       "      <td>170884.000000</td>\n",
       "      <td>170884.000000</td>\n",
       "      <td>...</td>\n",
       "      <td>170884.000000</td>\n",
       "      <td>170884.000000</td>\n",
       "      <td>170884.000000</td>\n",
       "      <td>170884.000000</td>\n",
       "      <td>170884.000000</td>\n",
       "      <td>170884.000000</td>\n",
       "      <td>170884.000000</td>\n",
       "      <td>170884.000000</td>\n",
       "      <td>170884.000000</td>\n",
       "      <td>170884.000000</td>\n",
       "    </tr>\n",
       "    <tr>\n",
       "      <th>mean</th>\n",
       "      <td>94966.107886</td>\n",
       "      <td>-0.001070</td>\n",
       "      <td>-0.000904</td>\n",
       "      <td>-0.002722</td>\n",
       "      <td>-0.002603</td>\n",
       "      <td>0.000151</td>\n",
       "      <td>0.000779</td>\n",
       "      <td>-0.000811</td>\n",
       "      <td>-0.002327</td>\n",
       "      <td>-0.000622</td>\n",
       "      <td>...</td>\n",
       "      <td>0.000957</td>\n",
       "      <td>0.000056</td>\n",
       "      <td>0.000475</td>\n",
       "      <td>-0.000894</td>\n",
       "      <td>-0.000593</td>\n",
       "      <td>-0.000738</td>\n",
       "      <td>0.000404</td>\n",
       "      <td>0.000422</td>\n",
       "      <td>88.511723</td>\n",
       "      <td>0.001785</td>\n",
       "    </tr>\n",
       "    <tr>\n",
       "      <th>std</th>\n",
       "      <td>47464.723773</td>\n",
       "      <td>1.958944</td>\n",
       "      <td>1.650481</td>\n",
       "      <td>1.521820</td>\n",
       "      <td>1.416490</td>\n",
       "      <td>1.394123</td>\n",
       "      <td>1.338331</td>\n",
       "      <td>1.260122</td>\n",
       "      <td>1.208709</td>\n",
       "      <td>1.098393</td>\n",
       "      <td>...</td>\n",
       "      <td>0.743974</td>\n",
       "      <td>0.726681</td>\n",
       "      <td>0.620647</td>\n",
       "      <td>0.605148</td>\n",
       "      <td>0.521128</td>\n",
       "      <td>0.481720</td>\n",
       "      <td>0.404540</td>\n",
       "      <td>0.314973</td>\n",
       "      <td>256.737144</td>\n",
       "      <td>0.042210</td>\n",
       "    </tr>\n",
       "    <tr>\n",
       "      <th>min</th>\n",
       "      <td>0.000000</td>\n",
       "      <td>-46.855047</td>\n",
       "      <td>-63.344698</td>\n",
       "      <td>-48.325589</td>\n",
       "      <td>-5.683171</td>\n",
       "      <td>-113.743307</td>\n",
       "      <td>-23.496714</td>\n",
       "      <td>-43.557242</td>\n",
       "      <td>-73.216718</td>\n",
       "      <td>-13.434066</td>\n",
       "      <td>...</td>\n",
       "      <td>-34.830382</td>\n",
       "      <td>-10.933144</td>\n",
       "      <td>-36.666000</td>\n",
       "      <td>-2.836627</td>\n",
       "      <td>-7.081325</td>\n",
       "      <td>-2.604551</td>\n",
       "      <td>-9.895244</td>\n",
       "      <td>-15.430084</td>\n",
       "      <td>0.000000</td>\n",
       "      <td>0.000000</td>\n",
       "    </tr>\n",
       "    <tr>\n",
       "      <th>25%</th>\n",
       "      <td>54348.000000</td>\n",
       "      <td>-0.922071</td>\n",
       "      <td>-0.599127</td>\n",
       "      <td>-0.896376</td>\n",
       "      <td>-0.848978</td>\n",
       "      <td>-0.691840</td>\n",
       "      <td>-0.768986</td>\n",
       "      <td>-0.554440</td>\n",
       "      <td>-0.209596</td>\n",
       "      <td>-0.642036</td>\n",
       "      <td>...</td>\n",
       "      <td>-0.228068</td>\n",
       "      <td>-0.542831</td>\n",
       "      <td>-0.161063</td>\n",
       "      <td>-0.354552</td>\n",
       "      <td>-0.318057</td>\n",
       "      <td>-0.327631</td>\n",
       "      <td>-0.070719</td>\n",
       "      <td>-0.053019</td>\n",
       "      <td>5.637500</td>\n",
       "      <td>0.000000</td>\n",
       "    </tr>\n",
       "    <tr>\n",
       "      <th>50%</th>\n",
       "      <td>84923.500000</td>\n",
       "      <td>0.016603</td>\n",
       "      <td>0.065839</td>\n",
       "      <td>0.177007</td>\n",
       "      <td>-0.020895</td>\n",
       "      <td>-0.054185</td>\n",
       "      <td>-0.274228</td>\n",
       "      <td>0.040417</td>\n",
       "      <td>0.021461</td>\n",
       "      <td>-0.051777</td>\n",
       "      <td>...</td>\n",
       "      <td>-0.029547</td>\n",
       "      <td>0.006488</td>\n",
       "      <td>-0.010688</td>\n",
       "      <td>0.040433</td>\n",
       "      <td>0.016916</td>\n",
       "      <td>-0.051262</td>\n",
       "      <td>0.001520</td>\n",
       "      <td>0.011216</td>\n",
       "      <td>22.020000</td>\n",
       "      <td>0.000000</td>\n",
       "    </tr>\n",
       "    <tr>\n",
       "      <th>75%</th>\n",
       "      <td>139404.000000</td>\n",
       "      <td>1.316250</td>\n",
       "      <td>0.802518</td>\n",
       "      <td>1.028302</td>\n",
       "      <td>0.738812</td>\n",
       "      <td>0.612154</td>\n",
       "      <td>0.400359</td>\n",
       "      <td>0.569221</td>\n",
       "      <td>0.326026</td>\n",
       "      <td>0.595095</td>\n",
       "      <td>...</td>\n",
       "      <td>0.186681</td>\n",
       "      <td>0.528971</td>\n",
       "      <td>0.147814</td>\n",
       "      <td>0.437888</td>\n",
       "      <td>0.350188</td>\n",
       "      <td>0.240718</td>\n",
       "      <td>0.091713</td>\n",
       "      <td>0.078480</td>\n",
       "      <td>77.650000</td>\n",
       "      <td>0.000000</td>\n",
       "    </tr>\n",
       "    <tr>\n",
       "      <th>max</th>\n",
       "      <td>172792.000000</td>\n",
       "      <td>2.451888</td>\n",
       "      <td>22.057729</td>\n",
       "      <td>4.226108</td>\n",
       "      <td>16.875344</td>\n",
       "      <td>34.099309</td>\n",
       "      <td>73.301626</td>\n",
       "      <td>120.589494</td>\n",
       "      <td>18.282168</td>\n",
       "      <td>10.392889</td>\n",
       "      <td>...</td>\n",
       "      <td>27.202839</td>\n",
       "      <td>10.503090</td>\n",
       "      <td>22.528412</td>\n",
       "      <td>4.584549</td>\n",
       "      <td>6.070850</td>\n",
       "      <td>3.517346</td>\n",
       "      <td>31.612198</td>\n",
       "      <td>16.129609</td>\n",
       "      <td>25691.160000</td>\n",
       "      <td>1.000000</td>\n",
       "    </tr>\n",
       "  </tbody>\n",
       "</table>\n",
       "<p>8 rows × 31 columns</p>\n",
       "</div>"
      ],
      "text/plain": [
       "                Time             V1             V2             V3  \\\n",
       "count  170884.000000  170884.000000  170884.000000  170884.000000   \n",
       "mean    94966.107886      -0.001070      -0.000904      -0.002722   \n",
       "std     47464.723773       1.958944       1.650481       1.521820   \n",
       "min         0.000000     -46.855047     -63.344698     -48.325589   \n",
       "25%     54348.000000      -0.922071      -0.599127      -0.896376   \n",
       "50%     84923.500000       0.016603       0.065839       0.177007   \n",
       "75%    139404.000000       1.316250       0.802518       1.028302   \n",
       "max    172792.000000       2.451888      22.057729       4.226108   \n",
       "\n",
       "                  V4             V5             V6             V7  \\\n",
       "count  170884.000000  170884.000000  170884.000000  170884.000000   \n",
       "mean       -0.002603       0.000151       0.000779      -0.000811   \n",
       "std         1.416490       1.394123       1.338331       1.260122   \n",
       "min        -5.683171    -113.743307     -23.496714     -43.557242   \n",
       "25%        -0.848978      -0.691840      -0.768986      -0.554440   \n",
       "50%        -0.020895      -0.054185      -0.274228       0.040417   \n",
       "75%         0.738812       0.612154       0.400359       0.569221   \n",
       "max        16.875344      34.099309      73.301626     120.589494   \n",
       "\n",
       "                  V8             V9  ...            V21            V22  \\\n",
       "count  170884.000000  170884.000000  ...  170884.000000  170884.000000   \n",
       "mean       -0.002327      -0.000622  ...       0.000957       0.000056   \n",
       "std         1.208709       1.098393  ...       0.743974       0.726681   \n",
       "min       -73.216718     -13.434066  ...     -34.830382     -10.933144   \n",
       "25%        -0.209596      -0.642036  ...      -0.228068      -0.542831   \n",
       "50%         0.021461      -0.051777  ...      -0.029547       0.006488   \n",
       "75%         0.326026       0.595095  ...       0.186681       0.528971   \n",
       "max        18.282168      10.392889  ...      27.202839      10.503090   \n",
       "\n",
       "                 V23            V24            V25            V26  \\\n",
       "count  170884.000000  170884.000000  170884.000000  170884.000000   \n",
       "mean        0.000475      -0.000894      -0.000593      -0.000738   \n",
       "std         0.620647       0.605148       0.521128       0.481720   \n",
       "min       -36.666000      -2.836627      -7.081325      -2.604551   \n",
       "25%        -0.161063      -0.354552      -0.318057      -0.327631   \n",
       "50%        -0.010688       0.040433       0.016916      -0.051262   \n",
       "75%         0.147814       0.437888       0.350188       0.240718   \n",
       "max        22.528412       4.584549       6.070850       3.517346   \n",
       "\n",
       "                 V27            V28         Amount          Class  \n",
       "count  170884.000000  170884.000000  170884.000000  170884.000000  \n",
       "mean        0.000404       0.000422      88.511723       0.001785  \n",
       "std         0.404540       0.314973     256.737144       0.042210  \n",
       "min        -9.895244     -15.430084       0.000000       0.000000  \n",
       "25%        -0.070719      -0.053019       5.637500       0.000000  \n",
       "50%         0.001520       0.011216      22.020000       0.000000  \n",
       "75%         0.091713       0.078480      77.650000       0.000000  \n",
       "max        31.612198      16.129609   25691.160000       1.000000  \n",
       "\n",
       "[8 rows x 31 columns]"
      ]
     },
     "execution_count": 254,
     "metadata": {},
     "output_type": "execute_result"
    }
   ],
   "source": [
    "df.describe()"
   ]
  },
  {
   "cell_type": "code",
   "execution_count": 19,
   "id": "e77921a3-94ef-4e6a-bb0a-d55272de9ab4",
   "metadata": {},
   "outputs": [
    {
     "data": {
      "text/plain": [
       "Index(['Time', 'V1', 'V2', 'V3', 'V4', 'V5', 'V6', 'V7', 'V8', 'V9', 'V10',\n",
       "       'V11', 'V12', 'V13', 'V14', 'V15', 'V16', 'V17', 'V18', 'V19', 'V20',\n",
       "       'V21', 'V22', 'V23', 'V24', 'V25', 'V26', 'V27', 'V28', 'Amount',\n",
       "       'Class'],\n",
       "      dtype='object')"
      ]
     },
     "execution_count": 19,
     "metadata": {},
     "output_type": "execute_result"
    }
   ],
   "source": [
    "df.columns"
   ]
  },
  {
   "cell_type": "code",
   "execution_count": null,
   "id": "2a9a3a7a-7262-491f-a4df-97b1c5852cfe",
   "metadata": {},
   "outputs": [],
   "source": []
  },
  {
   "cell_type": "code",
   "execution_count": 257,
   "id": "5d522300-6eab-443a-b82e-76a60d2975b4",
   "metadata": {},
   "outputs": [
    {
     "data": {
      "image/png": "[encoded data removed]",
      "text/plain": [
       "<Figure size 640x480 with 1 Axes>"
      ]
     },
     "metadata": {},
     "output_type": "display_data"
    }
   ],
   "source": [
    "def freq(col):\n",
    "    plt.hist(col, color='g')\n",
    "\n",
    "freq(df['Class'])"
   ]
  },
  {
   "cell_type": "markdown",
   "id": "d334ccd3-e2e1-4c82-8831-69ffe8529aff",
   "metadata": {},
   "source": [
    "We see that the distribution of the target class is huge biased to Non-Fraud transactions"
   ]
  },
  {
   "cell_type": "code",
   "execution_count": 31,
   "id": "4e5ad5df-12ff-40e6-a161-512ba6ef83bb",
   "metadata": {},
   "outputs": [
    {
     "data": {
      "text/plain": [
       "0         119191.0\n",
       "1          71750.0\n",
       "2         151977.0\n",
       "3          55709.0\n",
       "4          66654.0\n",
       "            ...   \n",
       "170879    137874.0\n",
       "170880      6559.0\n",
       "170881    159020.0\n",
       "170882     34859.0\n",
       "170883    130876.0\n",
       "Name: Time, Length: 170884, dtype: float64"
      ]
     },
     "execution_count": 31,
     "metadata": {},
     "output_type": "execute_result"
    }
   ],
   "source": [
    "df['Time']"
   ]
  },
  {
   "cell_type": "code",
   "execution_count": 243,
   "id": "d52561b9-9c99-4a80-af6c-9e886166988f",
   "metadata": {},
   "outputs": [],
   "source": [
    "from sklearn.preprocessing import StandardScaler, RobustScaler\n",
    "\n",
    "std_scaler = StandardScaler()\n",
    "rob_scaler = RobustScaler()\n",
    "\n",
    "df['Scaled_Amount'] = std_scaler.fit_transform(df['Amount'].values.reshape(-1, 1))\n",
    "df['Scaled_Time'] = rob_scaler.fit_transform(df['Time'].values.reshape(-1, 1))"
   ]
  },
  {
   "cell_type": "code",
   "execution_count": 247,
   "id": "38ddcb85-e66b-4fdb-9e18-8705a404fde5",
   "metadata": {},
   "outputs": [],
   "source": [
    "df = pd.DataFrame(pd.read_csv(path))"
   ]
  },
  {
   "cell_type": "code",
   "execution_count": 241,
   "id": "74a45762-c5ff-49a1-a1bc-cd68d19a15a7",
   "metadata": {},
   "outputs": [
    {
     "data": {
      "text/plain": [
       "{'whiskers': [<matplotlib.lines.Line2D at 0x7fd08d6b5e50>,\n",
       "  <matplotlib.lines.Line2D at 0x7fd08d6b7510>],\n",
       " 'caps': [<matplotlib.lines.Line2D at 0x7fd08d6b4e10>,\n",
       "  <matplotlib.lines.Line2D at 0x7fd08d6b4e50>],\n",
       " 'boxes': [<matplotlib.lines.Line2D at 0x7fd08d6b7b90>],\n",
       " 'medians': [<matplotlib.lines.Line2D at 0x7fd0912db710>],\n",
       " 'fliers': [<matplotlib.lines.Line2D at 0x7fd0912db610>],\n",
       " 'means': []}"
      ]
     },
     "execution_count": 241,
     "metadata": {},
     "output_type": "execute_result"
    },
    {
     "data": {
      "image/png": "[encoded data removed]",
      "text/plain": [
       "<Figure size 640x480 with 1 Axes>"
      ]
     },
     "metadata": {},
     "output_type": "display_data"
    }
   ],
   "source": [
    "plt.boxplot(df['Amount'].values, sym='bo')"
   ]
  },
  {
   "cell_type": "code",
   "execution_count": 248,
   "id": "03faafde-96c4-44fc-a952-c16b66908049",
   "metadata": {},
   "outputs": [],
   "source": [
    "q1 = df['Amount'].quantile(0.25)\n",
    "q3 = df['Amount'].quantile(0.75)\n",
    "# df = df.loc[(df[\"Amount\"] < q3)] & (df[\"Amount\"] >= q1)]"
   ]
  },
  {
   "cell_type": "code",
   "execution_count": 212,
   "id": "9caf8478-0603-4034-bada-82c2daeb71d1",
   "metadata": {},
   "outputs": [
    {
     "data": {
      "text/plain": [
       "170884"
      ]
     },
     "execution_count": 212,
     "metadata": {},
     "output_type": "execute_result"
    }
   ],
   "source": [
    "df['Amount'].count()"
   ]
  },
  {
   "cell_type": "code",
   "execution_count": 249,
   "id": "43e6680f-e99b-4d56-a7f3-ecc26e68405c",
   "metadata": {},
   "outputs": [],
   "source": [
    "def dists(df):\n",
    "    amount = df['Amount'].values\n",
    "    time = df['Time'].values\n",
    "    \n",
    "    sns.displot(amount, color='green', kde=True)\n",
    "    \n",
    "    sns.displot(time, color='blue', kde=True)\n",
    "\n",
    "    plt.show()"
   ]
  },
  {
   "cell_type": "code",
   "execution_count": 250,
   "id": "806d0d42-9088-476a-ba35-b1a647957fe9",
   "metadata": {},
   "outputs": [
    {
     "data": {
      "image/png": "[encoded data removed]",
      "text/plain": [
       "<Figure size 500x500 with 1 Axes>"
      ]
     },
     "metadata": {},
     "output_type": "display_data"
    },
    {
     "data": {
      "image/png": "[encoded data removed]",
      "text/plain": [
       "<Figure size 500x500 with 1 Axes>"
      ]
     },
     "metadata": {},
     "output_type": "display_data"
    }
   ],
   "source": [
    "dists(df)"
   ]
  },
  {
   "cell_type": "code",
   "execution_count": null,
   "id": "270b68f2-6656-44fd-b6e0-14d72b820e16",
   "metadata": {},
   "outputs": [],
   "source": [
    "    "
   ]
  },
  {
   "cell_type": "code",
   "execution_count": null,
   "id": "7fa23e8e-7c45-4eed-8cdc-39d7ca6a635a",
   "metadata": {},
   "outputs": [],
   "source": []
  },
  {
   "cell_type": "code",
   "execution_count": null,
   "id": "4604af5e-56cd-481c-a5c8-6129e815053d",
   "metadata": {},
   "outputs": [],
   "source": []
  }
 ],
 "metadata": {
  "kernelspec": {
   "display_name": "Python 3 (ipykernel)",
   "language": "python",
   "name": "python3"
  },
  "language_info": {
   "codemirror_mode": {
    "name": "ipython",
    "version": 3
   },
   "file_extension": ".py",
   "mimetype": "text/x-python",
   "name": "python",
   "nbconvert_exporter": "python",
   "pygments_lexer": "ipython3",
   "version": "3.11.7"
  }
 },
 "nbformat": 4,
 "nbformat_minor": 5
}
